{
 "cells": [
  {
   "attachments": {},
   "cell_type": "markdown",
   "metadata": {},
   "source": [
    "## Flujos de Control"
   ]
  },
  {
   "attachments": {},
   "cell_type": "markdown",
   "metadata": {},
   "source": [
    "1) Crear una variable que contenga un elemento del conjunto de números enteros y luego imprimir por pantalla si es mayor o menor a cero"
   ]
  },
  {
   "cell_type": "code",
   "execution_count": 2,
   "metadata": {},
   "outputs": [
    {
     "name": "stdout",
     "output_type": "stream",
     "text": [
      "La variable es menor que 0\n"
     ]
    }
   ],
   "source": [
    "variable=-5\n",
    "if variable>0:\n",
    "    print('La variable es mayor a 0')\n",
    "elif variable<0:\n",
    "    print('La variable es menor que 0')\n",
    "else: \n",
    "    prin('La variable es igual a 0')"
   ]
  },
  {
   "attachments": {},
   "cell_type": "markdown",
   "metadata": {},
   "source": [
    "2) Crear dos variables y un condicional que informe si son del mismo tipo de dato"
   ]
  },
  {
   "cell_type": "code",
   "execution_count": 3,
   "metadata": {},
   "outputs": [
    {
     "name": "stdout",
     "output_type": "stream",
     "text": [
      "Las variables tienen el mismo tipo\n"
     ]
    }
   ],
   "source": [
    "a=str('a')\n",
    "b=str('b')\n",
    "if type (a) == type (b):\n",
    "    print('Las variables tienen el mismo tipo de datos')\n",
    "else: \n",
    "    print('Las variables no son del mismo tipo de datos')"
   ]
  },
  {
   "attachments": {},
   "cell_type": "markdown",
   "metadata": {},
   "source": [
    "3) Para los valores enteros del 1 al 20, imprimir por pantalla si es par o impar"
   ]
  },
  {
   "cell_type": "code",
   "execution_count": 9,
   "metadata": {},
   "outputs": [
    {
     "name": "stdout",
     "output_type": "stream",
     "text": [
      "El numero= 1 Es impar\n",
      "El numero= 2 Es par\n",
      "El numero= 3 Es impar\n",
      "El numero= 4 Es par\n",
      "El numero= 5 Es impar\n",
      "El numero= 6 Es par\n",
      "El numero= 7 Es impar\n",
      "El numero= 8 Es par\n",
      "El numero= 9 Es impar\n",
      "El numero= 10 Es par\n",
      "El numero= 11 Es impar\n",
      "El numero= 12 Es par\n",
      "El numero= 13 Es impar\n",
      "El numero= 14 Es par\n",
      "El numero= 15 Es impar\n",
      "El numero= 16 Es par\n",
      "El numero= 17 Es impar\n",
      "El numero= 18 Es par\n",
      "El numero= 19 Es impar\n",
      "El numero= 20 Es par\n"
     ]
    }
   ],
   "source": [
    "for i in range (1,21):\n",
    "    if i % 2==0:\n",
    "        print('El numero=',i,'Es par')\n",
    "    else: \n",
    "        print('El numero=',i, 'Es impar')\n"
   ]
  },
  {
   "cell_type": "code",
   "execution_count": 17,
   "metadata": {},
   "outputs": [
    {
     "name": "stdout",
     "output_type": "stream",
     "text": [
      "El numero 1 Es impar\n",
      "El numero 2 Es par\n",
      "El numero 3 Es impar\n",
      "El numero 4 Es par\n",
      "El numero 5 Es impar\n",
      "El numero 6 Es par\n",
      "El numero 7 Es impar\n",
      "El numero 8 Es par\n",
      "El numero 9 Es impar\n",
      "El numero 10 Es par\n",
      "El numero 11 Es impar\n",
      "El numero 12 Es par\n",
      "El numero 13 Es impar\n",
      "El numero 14 Es par\n",
      "El numero 15 Es impar\n",
      "El numero 16 Es par\n",
      "El numero 17 Es impar\n",
      "El numero 18 Es par\n",
      "El numero 19 Es impar\n",
      "El numero 20 Es par\n"
     ]
    }
   ],
   "source": [
    "a=1\n",
    "while (a<=20):\n",
    "    if a%2==0:\n",
    "        print('El numero',a,'Es par')\n",
    "    else: \n",
    "        print('El numero',a,'Es impar')\n",
    "    a=a+1\n"
   ]
  },
  {
   "attachments": {},
   "cell_type": "markdown",
   "metadata": {},
   "source": [
    "4) En un ciclo for mostrar para los valores entre 0 y 5 el resultado de elevarlo a la potencia igual a 3"
   ]
  },
  {
   "cell_type": "code",
   "execution_count": 19,
   "metadata": {},
   "outputs": [
    {
     "name": "stdout",
     "output_type": "stream",
     "text": [
      "El numero: 0 Elevado a la tercera potencia: 0\n",
      "El numero: 1 Elevado a la tercera potencia: 1\n",
      "El numero: 2 Elevado a la tercera potencia: 8\n",
      "El numero: 3 Elevado a la tercera potencia: 27\n",
      "El numero: 4 Elevado a la tercera potencia: 64\n"
     ]
    }
   ],
   "source": [
    "for i in range (0,5):\n",
    "    print('El numero:',i, 'Elevado a la tercera potencia:',i**3)"
   ]
  },
  {
   "attachments": {},
   "cell_type": "markdown",
   "metadata": {},
   "source": [
    "5) Crear una variable que contenga un número entero y realizar un ciclo for la misma cantidad de ciclos"
   ]
  },
  {
   "cell_type": "code",
   "execution_count": 23,
   "metadata": {},
   "outputs": [
    {
     "name": "stdout",
     "output_type": "stream",
     "text": [
      "0\n",
      "1\n",
      "2\n",
      "3\n",
      "4\n",
      "5\n",
      "6\n",
      "7\n",
      "8\n",
      "9\n"
     ]
    }
   ],
   "source": [
    "var=10\n",
    "for i in range (0,var):\n",
    "    pass\n",
    "    print(i)"
   ]
  },
  {
   "attachments": {},
   "cell_type": "markdown",
   "metadata": {},
   "source": [
    "6) Utilizar un ciclo while para realizar el factorial de un número guardado en una variable, sólo si la variable contiene un número entero mayor a 0"
   ]
  },
  {
   "cell_type": "code",
   "execution_count": 29,
   "metadata": {},
   "outputs": [
    {
     "name": "stdout",
     "output_type": "stream",
     "text": [
      "El factorial de su numero es: 120\n"
     ]
    }
   ],
   "source": [
    "x=5\n",
    "if type(x)==int:\n",
    "    if x>0:\n",
    "        factorial=x\n",
    "        while x>2:\n",
    "            x=x-1\n",
    "            factorial=factorial*x\n",
    "        print('El factorial de su numero es:',factorial)\n",
    "    else: \n",
    "        print('Su numero es menor a 0')\n",
    "else:\n",
    "    print('Su numero no es un entero')\n",
    "\n",
    "\n",
    "\n"
   ]
  },
  {
   "cell_type": "code",
   "execution_count": 33,
   "metadata": {},
   "outputs": [
    {
     "name": "stdout",
     "output_type": "stream",
     "text": [
      "120\n"
     ]
    }
   ],
   "source": [
    "x=5\n",
    "factorial=1\n",
    "for i in range (2 ,( x + 1)):\n",
    "    factorial = i*factorial\n",
    "print(factorial)\n"
   ]
  },
  {
   "attachments": {},
   "cell_type": "markdown",
   "metadata": {},
   "source": [
    "7) Crear un ciclo for dentro de un ciclo while"
   ]
  },
  {
   "cell_type": "code",
   "execution_count": 46,
   "metadata": {},
   "outputs": [
    {
     "name": "stdout",
     "output_type": "stream",
     "text": [
      "Ciclo while numero:1\n",
      "Ciclo for numero1\n",
      "Ciclo while numero:2\n",
      "Ciclo for numero1\n",
      "Ciclo for numero2\n",
      "Ciclo while numero:3\n",
      "Ciclo for numero1\n",
      "Ciclo for numero2\n",
      "Ciclo for numero3\n",
      "Ciclo while numero:4\n",
      "Ciclo for numero1\n",
      "Ciclo for numero2\n",
      "Ciclo for numero3\n",
      "Ciclo for numero4\n",
      "Ciclo while numero:5\n",
      "Ciclo for numero1\n",
      "Ciclo for numero2\n",
      "Ciclo for numero3\n",
      "Ciclo for numero4\n",
      "Ciclo for numero5\n"
     ]
    }
   ],
   "source": [
    "x = 1\n",
    "while x <=5:\n",
    "    print( 'Ciclo while numero:' +str(x) )\n",
    "    for i in range (1, (x+1)):\n",
    "        print('Ciclo for numero' +str(i))\n",
    "    x+=1"
   ]
  },
  {
   "attachments": {},
   "cell_type": "markdown",
   "metadata": {},
   "source": [
    "8) Crear un ciclo while dentro de un ciclo for"
   ]
  },
  {
   "cell_type": "code",
   "execution_count": 55,
   "metadata": {},
   "outputs": [],
   "source": [
    "x=5\n",
    "for i in range (1,x):\n",
    "    while x<5:\n",
    "        x -= 1\n",
    "        print('Ciclo while numero'+str(x))\n",
    "        print('Ciclo for numero'+str(i))\n"
   ]
  },
  {
   "cell_type": "code",
   "execution_count": 56,
   "metadata": {},
   "outputs": [
    {
     "name": "stdout",
     "output_type": "stream",
     "text": [
      "Ciclo for numero:1\n",
      "Ciclo while numero:5\n",
      "Ciclo while numero:4\n",
      "Ciclo while numero:3\n",
      "Ciclo while numero:2\n",
      "Ciclo while numero:1\n",
      "Ciclo for numero:2\n",
      "Ciclo while numero:5\n",
      "Ciclo while numero:4\n",
      "Ciclo while numero:3\n",
      "Ciclo while numero:2\n",
      "Ciclo while numero:1\n",
      "Ciclo for numero:3\n",
      "Ciclo while numero:5\n",
      "Ciclo while numero:4\n",
      "Ciclo while numero:3\n",
      "Ciclo while numero:2\n",
      "Ciclo while numero:1\n",
      "Ciclo for numero:4\n",
      "Ciclo while numero:5\n",
      "Ciclo while numero:4\n",
      "Ciclo while numero:3\n",
      "Ciclo while numero:2\n",
      "Ciclo while numero:1\n"
     ]
    }
   ],
   "source": [
    "n=5\n",
    "for i in range (1, n):\n",
    "    print('Ciclo for numero:'+str(i))\n",
    "    n_temp=n\n",
    "    while n_temp>0:\n",
    "        print('Ciclo while numero:'+str(n_temp))\n",
    "        n_temp-=1\n",
    "        if n_temp <= 0:\n",
    "            break\n",
    "\n",
    "\n"
   ]
  },
  {
   "attachments": {},
   "cell_type": "markdown",
   "metadata": {},
   "source": [
    "9) Imprimir los números primos existentes entre 0 y 30"
   ]
  },
  {
   "cell_type": "code",
   "execution_count": 19,
   "metadata": {},
   "outputs": [
    {
     "name": "stdout",
     "output_type": "stream",
     "text": [
      "0\n",
      "1\n",
      "2\n",
      "3\n",
      "5\n",
      "7\n",
      "11\n",
      "13\n",
      "17\n",
      "19\n",
      "23\n",
      "29\n"
     ]
    }
   ],
   "source": [
    "#Luego de ver varios videos en youtube, explicaciones, entendi que hay varias maneras de hacerlo, esta es la misma del archivo, Resuelto.ipynb y es la más lógica y corta.\n",
    "#PD: Me costó bastante trabajo hacerlo.\n",
    "tope_rango = 30 \n",
    "n = 0\n",
    "primo = True\n",
    "\n",
    "while n < tope_rango :\n",
    "    for div in range (2, n):\n",
    "        if n % div == 0:\n",
    "            primo = False\n",
    "    if primo:\n",
    "        print(n)\n",
    "    else: \n",
    "        primo=True\n",
    "    \n",
    "    n+=1\n",
    "\n",
    "\n"
   ]
  },
  {
   "attachments": {},
   "cell_type": "markdown",
   "metadata": {},
   "source": [
    "10) ¿Se puede mejorar el proceso del punto 9? Utilizar las sentencias break y/ó continue para tal fin"
   ]
  },
  {
   "cell_type": "code",
   "execution_count": 28,
   "metadata": {},
   "outputs": [
    {
     "name": "stdout",
     "output_type": "stream",
     "text": [
      "0\n",
      "1\n",
      "2\n",
      "3\n",
      "5\n",
      "7\n",
      "11\n",
      "13\n",
      "17\n",
      "19\n",
      "23\n",
      "29\n"
     ]
    }
   ],
   "source": [
    "n = 0\n",
    "tope_rango = 30\n",
    "primo = True\n",
    "\n",
    "while (n <= tope_rango):\n",
    "    for div in range (2, n):\n",
    "        if n % div == 0:\n",
    "            primo = False\n",
    "            break\n",
    "    if (primo):\n",
    "        print(n)\n",
    "    else: \n",
    "        primo = True\n",
    "    n += 1 \n"
   ]
  },
  {
   "attachments": {},
   "cell_type": "markdown",
   "metadata": {},
   "source": [
    "11) En los puntos 9 y 10, se diseño un código que encuentra números primos y además se lo optimizó. ¿Es posible saber en qué medida se optimizó?"
   ]
  },
  {
   "cell_type": "code",
   "execution_count": 37,
   "metadata": {},
   "outputs": [
    {
     "name": "stdout",
     "output_type": "stream",
     "text": [
      "0\n",
      "1\n",
      "2\n",
      "3\n",
      "5\n",
      "7\n",
      "11\n",
      "13\n",
      "17\n",
      "19\n",
      "23\n",
      "29\n",
      "Ciclos sin break: 378\n"
     ]
    }
   ],
   "source": [
    "n = 0\n",
    "tope_rango = 30\n",
    "primo = True\n",
    "sin_break= 0\n",
    "\n",
    "while (n < tope_rango):\n",
    "    for div in range (2, n):\n",
    "        sin_break += 1\n",
    "        if n % div == 0:\n",
    "            primo = False\n",
    "    if (primo):\n",
    "        print(n)\n",
    "    else: \n",
    "        primo = True\n",
    "    n += 1 \n",
    "print('Ciclos sin break: '+str(sin_break))"
   ]
  },
  {
   "cell_type": "code",
   "execution_count": 40,
   "metadata": {},
   "outputs": [
    {
     "name": "stdout",
     "output_type": "stream",
     "text": [
      "0\n",
      "1\n",
      "2\n",
      "3\n",
      "5\n",
      "7\n",
      "11\n",
      "13\n",
      "17\n",
      "19\n",
      "23\n",
      "29\n",
      "Ciclos con break: 134\n"
     ]
    }
   ],
   "source": [
    "n = 0\n",
    "tope_rango = 30\n",
    "primo = True\n",
    "con_break= 0\n",
    "\n",
    "while (n < tope_rango):\n",
    "    for div in range (2, n):\n",
    "        con_break += 1\n",
    "        if n % div == 0:\n",
    "            primo = False\n",
    "            break\n",
    "    if (primo):\n",
    "        print(n)\n",
    "    else: \n",
    "        primo = True\n",
    "    n += 1 \n",
    "print('Ciclos con break: '+str(con_break))"
   ]
  },
  {
   "attachments": {},
   "cell_type": "markdown",
   "metadata": {},
   "source": [
    "12) Aplicando continue, armar un ciclo while que solo imprima los valores divisibles por 12, dentro del rango de números de 100 a 300"
   ]
  },
  {
   "cell_type": "code",
   "execution_count": 48,
   "metadata": {},
   "outputs": [
    {
     "name": "stdout",
     "output_type": "stream",
     "text": [
      "El numero: 108 es divisible por 12\n",
      "El numero: 120 es divisible por 12\n",
      "El numero: 132 es divisible por 12\n",
      "El numero: 144 es divisible por 12\n",
      "El numero: 156 es divisible por 12\n",
      "El numero: 168 es divisible por 12\n",
      "El numero: 180 es divisible por 12\n",
      "El numero: 192 es divisible por 12\n",
      "El numero: 204 es divisible por 12\n",
      "El numero: 216 es divisible por 12\n",
      "El numero: 228 es divisible por 12\n",
      "El numero: 240 es divisible por 12\n",
      "El numero: 252 es divisible por 12\n",
      "El numero: 264 es divisible por 12\n",
      "El numero: 276 es divisible por 12\n",
      "El numero: 288 es divisible por 12\n",
      "El numero: 300 es divisible por 12\n"
     ]
    }
   ],
   "source": [
    "#Tenia el error de colocar if (x % 12 == 12) \n",
    "x=99\n",
    "while (x<=300):\n",
    "    x+=1\n",
    "    if (x % 12 != 0):\n",
    "        continue\n",
    "    print('El numero:',x, 'es divisible por 12')"
   ]
  },
  {
   "attachments": {},
   "cell_type": "markdown",
   "metadata": {},
   "source": [
    "13) Utilizar la función **input()** que permite hacer ingresos por teclado, para encontrar números primos y dar la opción al usario de buscar el siguiente"
   ]
  },
  {
   "cell_type": "code",
   "execution_count": 59,
   "metadata": {},
   "outputs": [
    {
     "name": "stdout",
     "output_type": "stream",
     "text": [
      "1\n",
      "¿Desea continuar con el siguiente numero primo?\n",
      "2\n",
      "¿Desea continuar con el siguiente numero primo?\n",
      "3\n",
      "¿Desea continuar con el siguiente numero primo?\n",
      "5\n",
      "¿Desea continuar con el siguiente numero primo?\n",
      "7\n",
      "¿Desea continuar con el siguiente numero primo?\n",
      "11\n",
      "¿Desea continuar con el siguiente numero primo?\n",
      "13\n",
      "¿Desea continuar con el siguiente numero primo?\n",
      "17\n",
      "¿Desea continuar con el siguiente numero primo?\n",
      "19\n",
      "¿Desea continuar con el siguiente numero primo?\n",
      "No se buscarán más números\n"
     ]
    }
   ],
   "source": [
    "n = 1\n",
    "continua = 'si'\n",
    "primo = True\n",
    "while (continua == 'si'):\n",
    "    for div in range (2 , n):\n",
    "        if (n % div == 0):\n",
    "            primo = False\n",
    "            break\n",
    "    if (primo):\n",
    "        print (n)\n",
    "        print('¿Desea continuar con el siguiente numero primo?')\n",
    "        if (input().lower() != 'si'):\n",
    "            print('No se buscarán más números')\n",
    "            break\n",
    "    else:\n",
    "        primo=True\n",
    "    n+=1\n",
    "\n",
    "\n"
   ]
  },
  {
   "attachments": {},
   "cell_type": "markdown",
   "metadata": {},
   "source": [
    "14) Crear un ciclo while que encuentre dentro del rango de 100 a 300 el primer número divisible por 3 y además múltiplo de 6"
   ]
  },
  {
   "cell_type": "code",
   "execution_count": 69,
   "metadata": {},
   "outputs": [
    {
     "name": "stdout",
     "output_type": "stream",
     "text": [
      "El numero es:  102\n"
     ]
    }
   ],
   "source": [
    "x = 99\n",
    "while x <= 300:\n",
    "    if x % 6 == 0:\n",
    "        print('El numero es: ' , x)\n",
    "        break\n",
    "    x+=1"
   ]
  }
 ],
 "metadata": {
  "interpreter": {
   "hash": "c85384e4cb51c8b72350f3a8712cc8351fdc3955e32a27f9b60c6242ab125f01"
  },
  "kernelspec": {
   "display_name": "Python 3 (ipykernel)",
   "language": "python",
   "name": "python3"
  },
  "language_info": {
   "codemirror_mode": {
    "name": "ipython",
    "version": 3
   },
   "file_extension": ".py",
   "mimetype": "text/x-python",
   "name": "python",
   "nbconvert_exporter": "python",
   "pygments_lexer": "ipython3",
   "version": "3.10.11"
  }
 },
 "nbformat": 4,
 "nbformat_minor": 4
}
