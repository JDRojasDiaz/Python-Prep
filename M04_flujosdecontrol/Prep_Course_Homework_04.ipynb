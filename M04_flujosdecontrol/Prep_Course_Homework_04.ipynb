{
 "cells": [
  {
   "attachments": {},
   "cell_type": "markdown",
   "metadata": {},
   "source": [
    "## Flujos de Control"
   ]
  },
  {
   "attachments": {},
   "cell_type": "markdown",
   "metadata": {},
   "source": [
    "1) Crear una variable que contenga un elemento del conjunto de números enteros y luego imprimir por pantalla si es mayor o menor a cero"
   ]
  },
  {
   "cell_type": "code",
   "execution_count": 2,
   "metadata": {},
   "outputs": [
    {
     "name": "stdout",
     "output_type": "stream",
     "text": [
      "La variable es menor que 0\n"
     ]
    }
   ],
   "source": [
    "variable=-5\n",
    "if variable>0:\n",
    "    print('La variable es mayor a 0')\n",
    "elif variable<0:\n",
    "    print('La variable es menor que 0')\n",
    "else: \n",
    "    print('La variable es igual a 0')"
   ]
  },
  {
   "attachments": {},
   "cell_type": "markdown",
   "metadata": {},
   "source": [
    "2) Crear dos variables y un condicional que informe si son del mismo tipo de dato"
   ]
  },
  {
   "cell_type": "code",
   "execution_count": 3,
   "metadata": {},
   "outputs": [
    {
     "name": "stdout",
     "output_type": "stream",
     "text": [
      "Las variables tienen el mismo tipo\n"
     ]
    }
   ],
   "source": [
    "a=str('a')\n",
    "b=str('b')\n",
    "if type (a) == type (b):\n",
    "    print('Las variables tienen el mismo tipo de datos')\n",
    "else: \n",
    "    print('Las variables no son del mismo tipo de datos')"
   ]
  },
  {
   "attachments": {},
   "cell_type": "markdown",
   "metadata": {},
   "source": [
    "3) Para los valores enteros del 1 al 20, imprimir por pantalla si es par o impar"
   ]
  },
  {
   "cell_type": "code",
   "execution_count": 4,
   "metadata": {},
   "outputs": [
    {
     "name": "stdout",
     "output_type": "stream",
     "text": [
      "El numero: 1 es impar\n",
      "El numero: 2 es par\n",
      "El numero: 3 es impar\n",
      "El numero: 4 es par\n",
      "El numero: 5 es impar\n",
      "El numero: 6 es par\n",
      "El numero: 7 es impar\n",
      "El numero: 8 es par\n",
      "El numero: 9 es impar\n",
      "El numero: 10 es par\n",
      "El numero: 11 es impar\n",
      "El numero: 12 es par\n",
      "El numero: 13 es impar\n",
      "El numero: 14 es par\n",
      "El numero: 15 es impar\n",
      "El numero: 16 es par\n",
      "El numero: 17 es impar\n",
      "El numero: 18 es par\n",
      "El numero: 19 es impar\n"
     ]
    }
   ],
   "source": [
    "for i in range (1,20):\n",
    "    if i % 2 == 0:\n",
    "        print('El numero:', i, 'es par')\n",
    "    else: \n",
    "        print('El numero:',i, 'es impar')\n"
   ]
  },
  {
   "cell_type": "code",
   "execution_count": 17,
   "metadata": {},
   "outputs": [
    {
     "name": "stdout",
     "output_type": "stream",
     "text": [
      "El numero 1 Es impar\n",
      "El numero 2 Es par\n",
      "El numero 3 Es impar\n",
      "El numero 4 Es par\n",
      "El numero 5 Es impar\n",
      "El numero 6 Es par\n",
      "El numero 7 Es impar\n",
      "El numero 8 Es par\n",
      "El numero 9 Es impar\n",
      "El numero 10 Es par\n",
      "El numero 11 Es impar\n",
      "El numero 12 Es par\n",
      "El numero 13 Es impar\n",
      "El numero 14 Es par\n",
      "El numero 15 Es impar\n",
      "El numero 16 Es par\n",
      "El numero 17 Es impar\n",
      "El numero 18 Es par\n",
      "El numero 19 Es impar\n",
      "El numero 20 Es par\n"
     ]
    }
   ],
   "source": [
    "a=1\n",
    "while (a<=20):\n",
    "    if a%2==0:\n",
    "        print('El numero',a,'Es par')\n",
    "    else: \n",
    "        print('El numero',a,'Es impar')\n",
    "    a=a+1\n"
   ]
  },
  {
   "attachments": {},
   "cell_type": "markdown",
   "metadata": {},
   "source": [
    "4) En un ciclo for mostrar para los valores entre 0 y 5 el resultado de elevarlo a la potencia igual a 3"
   ]
  },
  {
   "cell_type": "code",
   "execution_count": 19,
   "metadata": {},
   "outputs": [
    {
     "name": "stdout",
     "output_type": "stream",
     "text": [
      "El numero: 0 Elevado a la tercera potencia: 0\n",
      "El numero: 1 Elevado a la tercera potencia: 1\n",
      "El numero: 2 Elevado a la tercera potencia: 8\n",
      "El numero: 3 Elevado a la tercera potencia: 27\n",
      "El numero: 4 Elevado a la tercera potencia: 64\n"
     ]
    }
   ],
   "source": [
    "for i in range (0,5):\n",
    "    print('El numero:',i, 'Elevado a la tercera potencia:',i**3)"
   ]
  },
  {
   "attachments": {},
   "cell_type": "markdown",
   "metadata": {},
   "source": [
    "5) Crear una variable que contenga un número entero y realizar un ciclo for la misma cantidad de ciclos"
   ]
  },
  {
   "cell_type": "code",
   "execution_count": 23,
   "metadata": {},
   "outputs": [
    {
     "name": "stdout",
     "output_type": "stream",
     "text": [
      "0\n",
      "1\n",
      "2\n",
      "3\n",
      "4\n",
      "5\n",
      "6\n",
      "7\n",
      "8\n",
      "9\n"
     ]
    }
   ],
   "source": [
    "var=10\n",
    "for i in range (0,var):\n",
    "    pass\n",
    "    print(i)"
   ]
  },
  {
   "attachments": {},
   "cell_type": "markdown",
   "metadata": {},
   "source": [
    "6) Utilizar un ciclo while para realizar el factorial de un número guardado en una variable, sólo si la variable contiene un número entero mayor a 0"
   ]
  },
  {
   "cell_type": "code",
   "execution_count": 11,
   "metadata": {},
   "outputs": [
    {
     "name": "stdout",
     "output_type": "stream",
     "text": [
      "Su resultado del factorial: 120\n"
     ]
    }
   ],
   "source": [
    "\n",
    "x = 5\n",
    "if (type(x) == int):\n",
    "    if x > 0 :\n",
    "        total = x\n",
    "        while x > 2:\n",
    "            x = x - 1 \n",
    "            total = total * x\n",
    "        print('Su resultado del factorial:', total)\n",
    "    else:\n",
    "        print('Su numero es menor que 0')\n",
    "else:\n",
    "    print('Su numero no es entero')\n",
    "\n",
    "\n",
    "\n"
   ]
  },
  {
   "cell_type": "code",
   "execution_count": 33,
   "metadata": {},
   "outputs": [
    {
     "name": "stdout",
     "output_type": "stream",
     "text": [
      "120\n"
     ]
    }
   ],
   "source": [
    "x=5\n",
    "factorial=1\n",
    "for i in range (2 ,( x + 1)):\n",
    "    factorial = i*factorial\n",
    "print(factorial)\n"
   ]
  },
  {
   "attachments": {},
   "cell_type": "markdown",
   "metadata": {},
   "source": [
    "7) Crear un ciclo for dentro de un ciclo while"
   ]
  },
  {
   "cell_type": "code",
   "execution_count": 46,
   "metadata": {},
   "outputs": [
    {
     "name": "stdout",
     "output_type": "stream",
     "text": [
      "Ciclo while numero:1\n",
      "Ciclo for numero1\n",
      "Ciclo while numero:2\n",
      "Ciclo for numero1\n",
      "Ciclo for numero2\n",
      "Ciclo while numero:3\n",
      "Ciclo for numero1\n",
      "Ciclo for numero2\n",
      "Ciclo for numero3\n",
      "Ciclo while numero:4\n",
      "Ciclo for numero1\n",
      "Ciclo for numero2\n",
      "Ciclo for numero3\n",
      "Ciclo for numero4\n",
      "Ciclo while numero:5\n",
      "Ciclo for numero1\n",
      "Ciclo for numero2\n",
      "Ciclo for numero3\n",
      "Ciclo for numero4\n",
      "Ciclo for numero5\n"
     ]
    }
   ],
   "source": [
    "x = 1\n",
    "while x <=5:\n",
    "    print( 'Ciclo while numero:' +str(x) )\n",
    "    for i in range (1, (x+1)):\n",
    "        print('Ciclo for numero' +str(i))\n",
    "    x+=1"
   ]
  },
  {
   "attachments": {},
   "cell_type": "markdown",
   "metadata": {},
   "source": [
    "8) Crear un ciclo while dentro de un ciclo for"
   ]
  },
  {
   "cell_type": "code",
   "execution_count": 2,
   "metadata": {},
   "outputs": [],
   "source": [
    "x=5\n",
    "for i in range (1,x):\n",
    "    while x<5:\n",
    "        x -= 1\n",
    "        print('Ciclo while numero'+str(x))\n",
    "        print('Ciclo for numero'+str(i))\n",
    "    "
   ]
  },
  {
   "cell_type": "code",
   "execution_count": 3,
   "metadata": {},
   "outputs": [
    {
     "name": "stdout",
     "output_type": "stream",
     "text": [
      "Ciclo for numero:1\n",
      "Ciclo while numero:5\n",
      "Ciclo while numero:4\n",
      "Ciclo while numero:3\n",
      "Ciclo while numero:2\n",
      "Ciclo while numero:1\n",
      "Ciclo for numero:2\n",
      "Ciclo while numero:5\n",
      "Ciclo while numero:4\n",
      "Ciclo while numero:3\n",
      "Ciclo while numero:2\n",
      "Ciclo while numero:1\n",
      "Ciclo for numero:3\n",
      "Ciclo while numero:5\n",
      "Ciclo while numero:4\n",
      "Ciclo while numero:3\n",
      "Ciclo while numero:2\n",
      "Ciclo while numero:1\n",
      "Ciclo for numero:4\n",
      "Ciclo while numero:5\n",
      "Ciclo while numero:4\n",
      "Ciclo while numero:3\n",
      "Ciclo while numero:2\n",
      "Ciclo while numero:1\n"
     ]
    }
   ],
   "source": [
    "n=5\n",
    "for i in range (1, n):\n",
    "    print('Ciclo for numero:'+str(i))\n",
    "    n_temp=n\n",
    "    while n_temp>0:\n",
    "        print('Ciclo while numero:'+str(n_temp))\n",
    "        n_temp-=1\n",
    "        if n_temp <= 0:\n",
    "            break\n",
    "\n",
    "\n"
   ]
  },
  {
   "attachments": {},
   "cell_type": "markdown",
   "metadata": {},
   "source": [
    "9) Imprimir los números primos existentes entre 0 y 30"
   ]
  },
  {
   "cell_type": "code",
   "execution_count": 19,
   "metadata": {},
   "outputs": [
    {
     "name": "stdout",
     "output_type": "stream",
     "text": [
      "0\n",
      "1\n",
      "2\n",
      "3\n",
      "5\n",
      "7\n",
      "11\n",
      "13\n",
      "17\n",
      "19\n",
      "23\n",
      "29\n"
     ]
    }
   ],
   "source": [
    "#Luego de ver varios videos en youtube, explicaciones, entendi que hay varias maneras de hacerlo, esta es la misma del archivo, Resuelto.ipynb y es la más lógica y corta.\n",
    "#PD: Me costó bastante trabajo hacerlo.\n",
    "tope_rango = 30 \n",
    "n = 0\n",
    "primo = True\n",
    "\n",
    "while n < tope_rango :\n",
    "    for div in range (2, n):\n",
    "        if n % div == 0:\n",
    "            primo = False\n",
    "    if primo:\n",
    "        print(n)\n",
    "    else: \n",
    "        primo=True\n",
    "    \n",
    "    n+=1\n"
   ]
  },
  {
   "attachments": {},
   "cell_type": "markdown",
   "metadata": {},
   "source": [
    "10) ¿Se puede mejorar el proceso del punto 9? Utilizar las sentencias break y/ó continue para tal fin"
   ]
  },
  {
   "cell_type": "code",
   "execution_count": 12,
   "metadata": {},
   "outputs": [
    {
     "name": "stdout",
     "output_type": "stream",
     "text": [
      "0\n",
      "1\n",
      "2\n",
      "3\n",
      "5\n",
      "7\n",
      "11\n",
      "13\n",
      "17\n",
      "19\n",
      "23\n",
      "29\n"
     ]
    }
   ],
   "source": [
    "n = 0\n",
    "tope_rango = 30\n",
    "primo = True\n",
    "\n",
    "while (n <= tope_rango):\n",
    "    for div in range (2, n):\n",
    "        if n % div == 0:\n",
    "            primo = False\n",
    "            break\n",
    "    if (primo):\n",
    "        print(n)\n",
    "    else: \n",
    "        primo = True\n",
    "    n += 1 \n"
   ]
  },
  {
   "attachments": {},
   "cell_type": "markdown",
   "metadata": {},
   "source": [
    "11) En los puntos 9 y 10, se diseño un código que encuentra números primos y además se lo optimizó. ¿Es posible saber en qué medida se optimizó?"
   ]
  },
  {
   "cell_type": "code",
   "execution_count": 37,
   "metadata": {},
   "outputs": [
    {
     "name": "stdout",
     "output_type": "stream",
     "text": [
      "0\n",
      "1\n",
      "2\n",
      "3\n",
      "5\n",
      "7\n",
      "11\n",
      "13\n",
      "17\n",
      "19\n",
      "23\n",
      "29\n",
      "Ciclos sin break: 378\n"
     ]
    }
   ],
   "source": [
    "n = 0\n",
    "tope_rango = 30\n",
    "primo = True\n",
    "sin_break = 0\n",
    "\n",
    "while (n < tope_rango):\n",
    "    for div in range (2, n):\n",
    "        sin_break += 1\n",
    "        if n % div == 0:\n",
    "            primo = False\n",
    "    if (primo):\n",
    "        print(n)\n",
    "    else: \n",
    "        primo = True\n",
    "    n += 1 \n",
    "print('Ciclos sin break: '+str(sin_break))\n",
    "\n"
   ]
  },
  {
   "cell_type": "code",
   "execution_count": 40,
   "metadata": {},
   "outputs": [
    {
     "name": "stdout",
     "output_type": "stream",
     "text": [
      "0\n",
      "1\n",
      "2\n",
      "3\n",
      "5\n",
      "7\n",
      "11\n",
      "13\n",
      "17\n",
      "19\n",
      "23\n",
      "29\n",
      "Ciclos con break: 134\n"
     ]
    }
   ],
   "source": [
    "n = 0\n",
    "tope_rango = 30\n",
    "primo = True\n",
    "con_break= 0\n",
    "\n",
    "while (n < tope_rango):\n",
    "    for div in range (2, n):\n",
    "        con_break += 1\n",
    "        if n % div == 0:\n",
    "            primo = False\n",
    "            break\n",
    "    if (primo):\n",
    "        print(n)\n",
    "    else: \n",
    "        primo = True\n",
    "    n += 1 \n",
    "print('Ciclos con break: '+str(con_break))"
   ]
  },
  {
   "attachments": {},
   "cell_type": "markdown",
   "metadata": {},
   "source": [
    "12) Aplicando continue, armar un ciclo while que solo imprima los valores divisibles por 12, dentro del rango de números de 100 a 300"
   ]
  },
  {
   "cell_type": "code",
   "execution_count": 27,
   "metadata": {},
   "outputs": [
    {
     "name": "stdout",
     "output_type": "stream",
     "text": [
      "El numero: 108 es divisible por 12\n",
      "El numero: 120 es divisible por 12\n",
      "El numero: 132 es divisible por 12\n",
      "El numero: 144 es divisible por 12\n",
      "El numero: 156 es divisible por 12\n",
      "El numero: 168 es divisible por 12\n",
      "El numero: 180 es divisible por 12\n",
      "El numero: 192 es divisible por 12\n",
      "El numero: 204 es divisible por 12\n",
      "El numero: 216 es divisible por 12\n",
      "El numero: 228 es divisible por 12\n",
      "El numero: 240 es divisible por 12\n",
      "El numero: 252 es divisible por 12\n",
      "El numero: 264 es divisible por 12\n",
      "El numero: 276 es divisible por 12\n",
      "El numero: 288 es divisible por 12\n",
      "El numero: 300 es divisible por 12\n"
     ]
    }
   ],
   "source": [
    "#Tenia el error de colocar if (x % 12 == 12) \n",
    "x=99\n",
    "while (x<=300):\n",
    "    x+=1\n",
    "    if (x % 12 != 0):\n",
    "        continue\n",
    "    print('El numero:',x, 'es divisible por 12')\n",
    "   "
   ]
  },
  {
   "attachments": {},
   "cell_type": "markdown",
   "metadata": {},
   "source": [
    "13) Utilizar la función **input()** que permite hacer ingresos por teclado, para encontrar números primos y dar la opción al usario de buscar el siguiente"
   ]
  },
  {
   "cell_type": "code",
   "execution_count": 2,
   "metadata": {},
   "outputs": [
    {
     "name": "stdout",
     "output_type": "stream",
     "text": [
      "1\n",
      "¿Desea continuar con el siguiente numero primo?\n",
      "2\n",
      "¿Desea continuar con el siguiente numero primo?\n",
      "3\n",
      "¿Desea continuar con el siguiente numero primo?\n",
      "5\n",
      "¿Desea continuar con el siguiente numero primo?\n",
      "7\n",
      "¿Desea continuar con el siguiente numero primo?\n",
      "11\n",
      "¿Desea continuar con el siguiente numero primo?\n",
      "13\n",
      "¿Desea continuar con el siguiente numero primo?\n"
     ]
    },
    {
     "ename": "KeyboardInterrupt",
     "evalue": "Interrupted by user",
     "output_type": "error",
     "traceback": [
      "\u001b[1;31m---------------------------------------------------------------------------\u001b[0m",
      "\u001b[1;31mKeyboardInterrupt\u001b[0m                         Traceback (most recent call last)",
      "Cell \u001b[1;32mIn[2], line 12\u001b[0m\n\u001b[0;32m     10\u001b[0m \u001b[38;5;28mprint\u001b[39m (n)\n\u001b[0;32m     11\u001b[0m \u001b[38;5;28mprint\u001b[39m(\u001b[38;5;124m'\u001b[39m\u001b[38;5;124m¿Desea continuar con el siguiente numero primo?\u001b[39m\u001b[38;5;124m'\u001b[39m)\n\u001b[1;32m---> 12\u001b[0m \u001b[38;5;28;01mif\u001b[39;00m (\u001b[38;5;28;43minput\u001b[39;49m\u001b[43m(\u001b[49m\u001b[43m)\u001b[49m\u001b[38;5;241m.\u001b[39mlower() \u001b[38;5;241m!=\u001b[39m \u001b[38;5;124m'\u001b[39m\u001b[38;5;124msi\u001b[39m\u001b[38;5;124m'\u001b[39m):\n\u001b[0;32m     13\u001b[0m     \u001b[38;5;28mprint\u001b[39m(\u001b[38;5;124m'\u001b[39m\u001b[38;5;124mNo se buscarán más números\u001b[39m\u001b[38;5;124m'\u001b[39m)\n\u001b[0;32m     14\u001b[0m     \u001b[38;5;28;01mbreak\u001b[39;00m\n",
      "File \u001b[1;32m~\\AppData\\Local\\Packages\\PythonSoftwareFoundation.Python.3.10_qbz5n2kfra8p0\\LocalCache\\local-packages\\Python310\\site-packages\\ipykernel\\kernelbase.py:1282\u001b[0m, in \u001b[0;36mKernel.raw_input\u001b[1;34m(self, prompt)\u001b[0m\n\u001b[0;32m   1280\u001b[0m     msg \u001b[38;5;241m=\u001b[39m \u001b[38;5;124m\"\u001b[39m\u001b[38;5;124mraw_input was called, but this frontend does not support input requests.\u001b[39m\u001b[38;5;124m\"\u001b[39m\n\u001b[0;32m   1281\u001b[0m     \u001b[38;5;28;01mraise\u001b[39;00m StdinNotImplementedError(msg)\n\u001b[1;32m-> 1282\u001b[0m \u001b[38;5;28;01mreturn\u001b[39;00m \u001b[38;5;28;43mself\u001b[39;49m\u001b[38;5;241;43m.\u001b[39;49m\u001b[43m_input_request\u001b[49m\u001b[43m(\u001b[49m\n\u001b[0;32m   1283\u001b[0m \u001b[43m    \u001b[49m\u001b[38;5;28;43mstr\u001b[39;49m\u001b[43m(\u001b[49m\u001b[43mprompt\u001b[49m\u001b[43m)\u001b[49m\u001b[43m,\u001b[49m\n\u001b[0;32m   1284\u001b[0m \u001b[43m    \u001b[49m\u001b[38;5;28;43mself\u001b[39;49m\u001b[38;5;241;43m.\u001b[39;49m\u001b[43m_parent_ident\u001b[49m\u001b[43m[\u001b[49m\u001b[38;5;124;43m\"\u001b[39;49m\u001b[38;5;124;43mshell\u001b[39;49m\u001b[38;5;124;43m\"\u001b[39;49m\u001b[43m]\u001b[49m\u001b[43m,\u001b[49m\n\u001b[0;32m   1285\u001b[0m \u001b[43m    \u001b[49m\u001b[38;5;28;43mself\u001b[39;49m\u001b[38;5;241;43m.\u001b[39;49m\u001b[43mget_parent\u001b[49m\u001b[43m(\u001b[49m\u001b[38;5;124;43m\"\u001b[39;49m\u001b[38;5;124;43mshell\u001b[39;49m\u001b[38;5;124;43m\"\u001b[39;49m\u001b[43m)\u001b[49m\u001b[43m,\u001b[49m\n\u001b[0;32m   1286\u001b[0m \u001b[43m    \u001b[49m\u001b[43mpassword\u001b[49m\u001b[38;5;241;43m=\u001b[39;49m\u001b[38;5;28;43;01mFalse\u001b[39;49;00m\u001b[43m,\u001b[49m\n\u001b[0;32m   1287\u001b[0m \u001b[43m\u001b[49m\u001b[43m)\u001b[49m\n",
      "File \u001b[1;32m~\\AppData\\Local\\Packages\\PythonSoftwareFoundation.Python.3.10_qbz5n2kfra8p0\\LocalCache\\local-packages\\Python310\\site-packages\\ipykernel\\kernelbase.py:1325\u001b[0m, in \u001b[0;36mKernel._input_request\u001b[1;34m(self, prompt, ident, parent, password)\u001b[0m\n\u001b[0;32m   1322\u001b[0m \u001b[38;5;28;01mexcept\u001b[39;00m \u001b[38;5;167;01mKeyboardInterrupt\u001b[39;00m:\n\u001b[0;32m   1323\u001b[0m     \u001b[38;5;66;03m# re-raise KeyboardInterrupt, to truncate traceback\u001b[39;00m\n\u001b[0;32m   1324\u001b[0m     msg \u001b[38;5;241m=\u001b[39m \u001b[38;5;124m\"\u001b[39m\u001b[38;5;124mInterrupted by user\u001b[39m\u001b[38;5;124m\"\u001b[39m\n\u001b[1;32m-> 1325\u001b[0m     \u001b[38;5;28;01mraise\u001b[39;00m \u001b[38;5;167;01mKeyboardInterrupt\u001b[39;00m(msg) \u001b[38;5;28;01mfrom\u001b[39;00m \u001b[38;5;28;01mNone\u001b[39;00m\n\u001b[0;32m   1326\u001b[0m \u001b[38;5;28;01mexcept\u001b[39;00m \u001b[38;5;167;01mException\u001b[39;00m:\n\u001b[0;32m   1327\u001b[0m     \u001b[38;5;28mself\u001b[39m\u001b[38;5;241m.\u001b[39mlog\u001b[38;5;241m.\u001b[39mwarning(\u001b[38;5;124m\"\u001b[39m\u001b[38;5;124mInvalid Message:\u001b[39m\u001b[38;5;124m\"\u001b[39m, exc_info\u001b[38;5;241m=\u001b[39m\u001b[38;5;28;01mTrue\u001b[39;00m)\n",
      "\u001b[1;31mKeyboardInterrupt\u001b[0m: Interrupted by user"
     ]
    }
   ],
   "source": [
    "n = 1\n",
    "continua = 'si'\n",
    "primo = True\n",
    "while (continua == 'si'):\n",
    "    for div in range (2 , n):\n",
    "        if (n % div == 0):\n",
    "            primo = False\n",
    "            break\n",
    "    if (primo):\n",
    "        print (n)\n",
    "        print('¿Desea continuar con el siguiente numero primo?')\n",
    "        if (input().lower() != 'si'):\n",
    "            print('No se buscarán más números')\n",
    "            break\n",
    "    else:\n",
    "        primo=True\n",
    "    n+=1\n",
    "\n",
    "\n"
   ]
  },
  {
   "attachments": {},
   "cell_type": "markdown",
   "metadata": {},
   "source": [
    "14) Crear un ciclo while que encuentre dentro del rango de 100 a 300 el primer número divisible por 3 y además múltiplo de 6"
   ]
  },
  {
   "cell_type": "code",
   "execution_count": 69,
   "metadata": {},
   "outputs": [
    {
     "name": "stdout",
     "output_type": "stream",
     "text": [
      "El numero es:  102\n"
     ]
    }
   ],
   "source": [
    "x = 99\n",
    "while x <= 300:\n",
    "    if x % 6 == 0:\n",
    "        print('El numero es: ' , x)\n",
    "        break\n",
    "    x+=1"
   ]
  }
 ],
 "metadata": {
  "interpreter": {
   "hash": "c85384e4cb51c8b72350f3a8712cc8351fdc3955e32a27f9b60c6242ab125f01"
  },
  "kernelspec": {
   "display_name": "Python 3 (ipykernel)",
   "language": "python",
   "name": "python3"
  },
  "language_info": {
   "codemirror_mode": {
    "name": "ipython",
    "version": 3
   },
   "file_extension": ".py",
   "mimetype": "text/x-python",
   "name": "python",
   "nbconvert_exporter": "python",
   "pygments_lexer": "ipython3",
   "version": "3.10.11"
  }
 },
 "nbformat": 4,
 "nbformat_minor": 4
}
