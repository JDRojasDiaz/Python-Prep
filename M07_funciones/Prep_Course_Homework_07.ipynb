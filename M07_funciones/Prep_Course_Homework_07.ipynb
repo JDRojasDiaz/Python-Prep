{
 "cells": [
  {
   "attachments": {},
   "cell_type": "markdown",
   "metadata": {},
   "source": [
    "## Funciones"
   ]
  },
  {
   "attachments": {},
   "cell_type": "markdown",
   "metadata": {},
   "source": [
    "1) Crear una función que reciba un número como parámetro y devuelva True si es primo y False si no lo es"
   ]
  },
  {
   "cell_type": "code",
   "execution_count": 27,
   "metadata": {},
   "outputs": [],
   "source": [
    "def primo(num):\n",
    "    es_primo = True\n",
    "    for i in range (2, num):\n",
    "        if num % i == 0:\n",
    "            es_primo = False\n",
    "            break\n",
    "    return es_primo   "
   ]
  },
  {
   "cell_type": "code",
   "execution_count": 28,
   "metadata": {},
   "outputs": [
    {
     "data": {
      "text/plain": [
       "False"
      ]
     },
     "execution_count": 28,
     "metadata": {},
     "output_type": "execute_result"
    }
   ],
   "source": [
    "primo(9)"
   ]
  },
  {
   "attachments": {},
   "cell_type": "markdown",
   "metadata": {},
   "source": [
    "2) Utilizando la función del punto 1, realizar otra función que reciba de parámetro una lista de números y devuelva sólo aquellos que son primos en otra lista"
   ]
  },
  {
   "cell_type": "code",
   "execution_count": 34,
   "metadata": {},
   "outputs": [],
   "source": [
    "def extraer_primos(lista):\n",
    "    lista_primos = []\n",
    "    for numero in lista:\n",
    "        if primo (int(numero)):\n",
    "            lista_primos.append(numero)\n",
    "    return lista_primos"
   ]
  },
  {
   "cell_type": "code",
   "execution_count": 35,
   "metadata": {},
   "outputs": [
    {
     "data": {
      "text/plain": [
       "[1, 2, 3, 5, 7, 11, 13, 17, 19]"
      ]
     },
     "execution_count": 35,
     "metadata": {},
     "output_type": "execute_result"
    }
   ],
   "source": [
    "lista = [1,2,3,4,5,6,7,8,9,10,11,12,13,14,15,16,17,18,19,20]\n",
    "listaprimos = extraer_primos(lista)\n",
    "listaprimos"
   ]
  },
  {
   "attachments": {},
   "cell_type": "markdown",
   "metadata": {},
   "source": [
    "3) Crear una función que al recibir una lista de números, devuelva el que más se repite y cuántas veces lo hace. Si hay más de un \"más repetido\", que devuelva cualquiera"
   ]
  },
  {
   "cell_type": "code",
   "execution_count": 36,
   "metadata": {},
   "outputs": [],
   "source": [
    "def valor_modal(lista):\n",
    "    lista_unicos = []\n",
    "    lista_repetidos = []\n",
    "    if len(lista) == 0:\n",
    "        return None\n",
    "    for elemento in lista:\n",
    "        if elemento in lista_unicos:\n",
    "            i = lista_unicos.index(elemento)\n",
    "            lista_repetidos[i] += 1\n",
    "        else:\n",
    "            lista_unicos.append(elemento)\n",
    "            lista_repetidos.append(1)\n",
    "    moda = lista_unicos[0]\n",
    "    maximo = lista_repetidos[0]\n",
    "    for i, elemento in enumerate(lista_unicos):\n",
    "        if lista_repetidos[i] > maximo:\n",
    "            moda = lista_unicos[i]\n",
    "            maximo = lista_repetidos[i]\n",
    "    return moda, maximo"
   ]
  },
  {
   "cell_type": "code",
   "execution_count": 38,
   "metadata": {},
   "outputs": [
    {
     "data": {
      "text/plain": [
       "(1, 5)"
      ]
     },
     "execution_count": 38,
     "metadata": {},
     "output_type": "execute_result"
    }
   ],
   "source": [
    "lista = [1,2,3,5,4,8,9,4,5,2,3,1,4,7,8,5,6,9,7,7,1,1,3,5,6,9,7,4,1,3]\n",
    "valor_modal(lista)"
   ]
  },
  {
   "attachments": {},
   "cell_type": "markdown",
   "metadata": {},
   "source": [
    "4) Crear una función que convierta entre grados Celsius, Farenheit y Kelvin<br>\n",
    "Fórmula 1\t: (°C × 9/5) + 32 = °F<br>\n",
    "Fórmula 2\t: °C + 273.15 = °K<br>\n",
    "Debe recibir 3 parámetros: el valor, la medida de orígen y la medida de destino\n"
   ]
  },
  {
   "cell_type": "code",
   "execution_count": 78,
   "metadata": {},
   "outputs": [],
   "source": [
    "def grados(valor,origen,destino):\n",
    "    if origen == 'celsius':\n",
    "        if destino == 'celsius':\n",
    "            valor_destino = valor\n",
    "        elif destino == 'farenheit':\n",
    "            valor_destino = (valor * 9/5) + 32\n",
    "        elif destino == 'kelvin':\n",
    "            valor_destino = valor + 273.15\n",
    "        else:\n",
    "            print('Ingresa un destino valido')\n",
    "\n",
    "    elif origen == 'farenheit':\n",
    "        if destino == 'farenheit':\n",
    "            valor_destino = valor\n",
    "        elif destino == 'celsius':\n",
    "           valor_destino = (valor - 32) * (5/9)\n",
    "        elif destino == 'kelvin':\n",
    "            valor_destino = (valor - 32) * (5/9) + 273.15\n",
    "        else:\n",
    "            print('Ingresa un destino valido')\n",
    "\n",
    "    elif origen == 'kelvin':\n",
    "        if destino == 'kelvin':\n",
    "            valor_destino = valor\n",
    "        elif destino == 'celsius':\n",
    "            valor_destino = valor - 273.15\n",
    "        elif destino == 'farenheit':\n",
    "            valor_destino = ( 9 / 5 * (valor - 273.15)) + 32\n",
    "        else:\n",
    "            print('Ingresa un destino valido')\n",
    "    else:\n",
    "        print('Ingresa un origen valido')\n",
    "\n",
    "    return valor_destino  \n",
    "\n"
   ]
  },
  {
   "cell_type": "code",
   "execution_count": 84,
   "metadata": {},
   "outputs": [
    {
     "data": {
      "text/plain": [
       "473.15"
      ]
     },
     "execution_count": 84,
     "metadata": {},
     "output_type": "execute_result"
    }
   ],
   "source": [
    "grados(200,'celsius','kelvin')"
   ]
  },
  {
   "attachments": {},
   "cell_type": "markdown",
   "metadata": {},
   "source": [
    "5) Iterando una lista con los tres valores posibles de temperatura que recibe la función del punto 5, hacer un print para cada combinación de los mismos:"
   ]
  },
  {
   "cell_type": "code",
   "execution_count": 91,
   "metadata": {},
   "outputs": [
    {
     "name": "stdout",
     "output_type": "stream",
     "text": [
      "20 grados celsius a celsius son 20\n",
      "20 grados celsius a farenheit son 68.0\n",
      "20 grados celsius a kelvin son 293.15\n",
      "20 grados farenheit a celsius son -6.666666666666667\n",
      "20 grados farenheit a farenheit son 20\n",
      "20 grados farenheit a kelvin son 266.4833333333333\n",
      "20 grados kelvin a celsius son -253.14999999999998\n",
      "20 grados kelvin a farenheit son -423.66999999999996\n",
      "20 grados kelvin a kelvin son 20\n"
     ]
    }
   ],
   "source": [
    "temp = ['celsius', 'farenheit','kelvin']\n",
    "for x in range(0,3):\n",
    "    for y in range(0,3):\n",
    "        print('20 grados', temp[x], 'a' , temp[y],'son', grados(20,temp[x],temp[y]))"
   ]
  },
  {
   "attachments": {},
   "cell_type": "markdown",
   "metadata": {},
   "source": [
    "6) Armar una función que devuelva el factorial de un número. Tener en cuenta que el usuario puede equivocarse y enviar de parámetro un número no entero o negativo"
   ]
  },
  {
   "cell_type": "code",
   "execution_count": 53,
   "metadata": {},
   "outputs": [],
   "source": [
    "def factorial(fact):\n",
    "    if (type(fact) == int):\n",
    "        if fact > 0:\n",
    "            total = fact\n",
    "            while fact > 2:\n",
    "                fact = fact - 1\n",
    "                total = total * fact\n",
    "            return total\n",
    "        else:\n",
    "            return ('Su numero ingresado es un numero negativo, debe ser entero positivo')\n",
    "    else:\n",
    "        return ('Su numero ingresado es un numero complejo, debe ser entero positivo')"
   ]
  },
  {
   "cell_type": "code",
   "execution_count": 57,
   "metadata": {},
   "outputs": [
    {
     "data": {
      "text/plain": [
       "120"
      ]
     },
     "execution_count": 57,
     "metadata": {},
     "output_type": "execute_result"
    }
   ],
   "source": [
    "factorial(5)"
   ]
  }
 ],
 "metadata": {
  "interpreter": {
   "hash": "c85384e4cb51c8b72350f3a8712cc8351fdc3955e32a27f9b60c6242ab125f01"
  },
  "kernelspec": {
   "display_name": "Python 3 (ipykernel)",
   "language": "python",
   "name": "python3"
  },
  "language_info": {
   "codemirror_mode": {
    "name": "ipython",
    "version": 3
   },
   "file_extension": ".py",
   "mimetype": "text/x-python",
   "name": "python",
   "nbconvert_exporter": "python",
   "pygments_lexer": "ipython3",
   "version": "3.10.11"
  }
 },
 "nbformat": 4,
 "nbformat_minor": 4
}
